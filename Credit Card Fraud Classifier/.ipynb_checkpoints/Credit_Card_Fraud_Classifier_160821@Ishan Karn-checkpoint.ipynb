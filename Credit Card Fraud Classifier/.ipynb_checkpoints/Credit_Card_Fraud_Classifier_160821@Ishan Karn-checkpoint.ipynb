{
 "cells": [
  {
   "cell_type": "markdown",
   "metadata": {},
   "source": [
    "## Credit Card Fraud Classifier\n",
    "> On the basis of different encoded features of a cleaned credit card dataset classify a customer as fraud or non-fraud."
   ]
  },
  {
   "cell_type": "code",
   "execution_count": 1,
   "metadata": {},
   "outputs": [],
   "source": [
    "import numpy as np\n",
    "import pandas as pd\n",
    "import seaborn as sns\n",
    "from matplotlib import pyplot\n",
    "\n",
    "from pandas import read_csv, set_option\n",
    "from pandas.plotting import scatter_matrix"
   ]
  },
  {
   "cell_type": "code",
   "execution_count": 2,
   "metadata": {},
   "outputs": [],
   "source": [
    "fraud_data = pd.read_csv('creditcard.csv.zip')"
   ]
  },
  {
   "cell_type": "code",
   "execution_count": 3,
   "metadata": {},
   "outputs": [
    {
     "data": {
      "text/html": [
       "<div>\n",
       "<style scoped>\n",
       "    .dataframe tbody tr th:only-of-type {\n",
       "        vertical-align: middle;\n",
       "    }\n",
       "\n",
       "    .dataframe tbody tr th {\n",
       "        vertical-align: top;\n",
       "    }\n",
       "\n",
       "    .dataframe thead th {\n",
       "        text-align: right;\n",
       "    }\n",
       "</style>\n",
       "<table border=\"1\" class=\"dataframe\">\n",
       "  <thead>\n",
       "    <tr style=\"text-align: right;\">\n",
       "      <th></th>\n",
       "      <th>Time</th>\n",
       "      <th>V1</th>\n",
       "      <th>V2</th>\n",
       "      <th>V3</th>\n",
       "      <th>V4</th>\n",
       "      <th>V5</th>\n",
       "      <th>V6</th>\n",
       "      <th>V7</th>\n",
       "      <th>V8</th>\n",
       "      <th>V9</th>\n",
       "      <th>...</th>\n",
       "      <th>V21</th>\n",
       "      <th>V22</th>\n",
       "      <th>V23</th>\n",
       "      <th>V24</th>\n",
       "      <th>V25</th>\n",
       "      <th>V26</th>\n",
       "      <th>V27</th>\n",
       "      <th>V28</th>\n",
       "      <th>Amount</th>\n",
       "      <th>Class</th>\n",
       "    </tr>\n",
       "  </thead>\n",
       "  <tbody>\n",
       "    <tr>\n",
       "      <th>0</th>\n",
       "      <td>0.0</td>\n",
       "      <td>-1.359807</td>\n",
       "      <td>-0.072781</td>\n",
       "      <td>2.536347</td>\n",
       "      <td>1.378155</td>\n",
       "      <td>-0.338321</td>\n",
       "      <td>0.462388</td>\n",
       "      <td>0.239599</td>\n",
       "      <td>0.098698</td>\n",
       "      <td>0.363787</td>\n",
       "      <td>...</td>\n",
       "      <td>-0.018307</td>\n",
       "      <td>0.277838</td>\n",
       "      <td>-0.110474</td>\n",
       "      <td>0.066928</td>\n",
       "      <td>0.128539</td>\n",
       "      <td>-0.189115</td>\n",
       "      <td>0.133558</td>\n",
       "      <td>-0.021053</td>\n",
       "      <td>149.62</td>\n",
       "      <td>0</td>\n",
       "    </tr>\n",
       "    <tr>\n",
       "      <th>1</th>\n",
       "      <td>0.0</td>\n",
       "      <td>1.191857</td>\n",
       "      <td>0.266151</td>\n",
       "      <td>0.166480</td>\n",
       "      <td>0.448154</td>\n",
       "      <td>0.060018</td>\n",
       "      <td>-0.082361</td>\n",
       "      <td>-0.078803</td>\n",
       "      <td>0.085102</td>\n",
       "      <td>-0.255425</td>\n",
       "      <td>...</td>\n",
       "      <td>-0.225775</td>\n",
       "      <td>-0.638672</td>\n",
       "      <td>0.101288</td>\n",
       "      <td>-0.339846</td>\n",
       "      <td>0.167170</td>\n",
       "      <td>0.125895</td>\n",
       "      <td>-0.008983</td>\n",
       "      <td>0.014724</td>\n",
       "      <td>2.69</td>\n",
       "      <td>0</td>\n",
       "    </tr>\n",
       "    <tr>\n",
       "      <th>2</th>\n",
       "      <td>1.0</td>\n",
       "      <td>-1.358354</td>\n",
       "      <td>-1.340163</td>\n",
       "      <td>1.773209</td>\n",
       "      <td>0.379780</td>\n",
       "      <td>-0.503198</td>\n",
       "      <td>1.800499</td>\n",
       "      <td>0.791461</td>\n",
       "      <td>0.247676</td>\n",
       "      <td>-1.514654</td>\n",
       "      <td>...</td>\n",
       "      <td>0.247998</td>\n",
       "      <td>0.771679</td>\n",
       "      <td>0.909412</td>\n",
       "      <td>-0.689281</td>\n",
       "      <td>-0.327642</td>\n",
       "      <td>-0.139097</td>\n",
       "      <td>-0.055353</td>\n",
       "      <td>-0.059752</td>\n",
       "      <td>378.66</td>\n",
       "      <td>0</td>\n",
       "    </tr>\n",
       "    <tr>\n",
       "      <th>3</th>\n",
       "      <td>1.0</td>\n",
       "      <td>-0.966272</td>\n",
       "      <td>-0.185226</td>\n",
       "      <td>1.792993</td>\n",
       "      <td>-0.863291</td>\n",
       "      <td>-0.010309</td>\n",
       "      <td>1.247203</td>\n",
       "      <td>0.237609</td>\n",
       "      <td>0.377436</td>\n",
       "      <td>-1.387024</td>\n",
       "      <td>...</td>\n",
       "      <td>-0.108300</td>\n",
       "      <td>0.005274</td>\n",
       "      <td>-0.190321</td>\n",
       "      <td>-1.175575</td>\n",
       "      <td>0.647376</td>\n",
       "      <td>-0.221929</td>\n",
       "      <td>0.062723</td>\n",
       "      <td>0.061458</td>\n",
       "      <td>123.50</td>\n",
       "      <td>0</td>\n",
       "    </tr>\n",
       "    <tr>\n",
       "      <th>4</th>\n",
       "      <td>2.0</td>\n",
       "      <td>-1.158233</td>\n",
       "      <td>0.877737</td>\n",
       "      <td>1.548718</td>\n",
       "      <td>0.403034</td>\n",
       "      <td>-0.407193</td>\n",
       "      <td>0.095921</td>\n",
       "      <td>0.592941</td>\n",
       "      <td>-0.270533</td>\n",
       "      <td>0.817739</td>\n",
       "      <td>...</td>\n",
       "      <td>-0.009431</td>\n",
       "      <td>0.798278</td>\n",
       "      <td>-0.137458</td>\n",
       "      <td>0.141267</td>\n",
       "      <td>-0.206010</td>\n",
       "      <td>0.502292</td>\n",
       "      <td>0.219422</td>\n",
       "      <td>0.215153</td>\n",
       "      <td>69.99</td>\n",
       "      <td>0</td>\n",
       "    </tr>\n",
       "  </tbody>\n",
       "</table>\n",
       "<p>5 rows × 31 columns</p>\n",
       "</div>"
      ],
      "text/plain": [
       "   Time        V1        V2        V3        V4  \\\n",
       "0   0.0 -1.359807 -0.072781  2.536347  1.378155   \n",
       "1   0.0  1.191857  0.266151  0.166480  0.448154   \n",
       "2   1.0 -1.358354 -1.340163  1.773209  0.379780   \n",
       "3   1.0 -0.966272 -0.185226  1.792993 -0.863291   \n",
       "4   2.0 -1.158233  0.877737  1.548718  0.403034   \n",
       "\n",
       "         V5        V6        V7        V8  \\\n",
       "0 -0.338321  0.462388  0.239599  0.098698   \n",
       "1  0.060018 -0.082361 -0.078803  0.085102   \n",
       "2 -0.503198  1.800499  0.791461  0.247676   \n",
       "3 -0.010309  1.247203  0.237609  0.377436   \n",
       "4 -0.407193  0.095921  0.592941 -0.270533   \n",
       "\n",
       "         V9  ...       V21       V22       V23  \\\n",
       "0  0.363787  ... -0.018307  0.277838 -0.110474   \n",
       "1 -0.255425  ... -0.225775 -0.638672  0.101288   \n",
       "2 -1.514654  ...  0.247998  0.771679  0.909412   \n",
       "3 -1.387024  ... -0.108300  0.005274 -0.190321   \n",
       "4  0.817739  ... -0.009431  0.798278 -0.137458   \n",
       "\n",
       "        V24       V25       V26       V27  \\\n",
       "0  0.066928  0.128539 -0.189115  0.133558   \n",
       "1 -0.339846  0.167170  0.125895 -0.008983   \n",
       "2 -0.689281 -0.327642 -0.139097 -0.055353   \n",
       "3 -1.175575  0.647376 -0.221929  0.062723   \n",
       "4  0.141267 -0.206010  0.502292  0.219422   \n",
       "\n",
       "        V28  Amount  Class  \n",
       "0 -0.021053  149.62      0  \n",
       "1  0.014724    2.69      0  \n",
       "2 -0.059752  378.66      0  \n",
       "3  0.061458  123.50      0  \n",
       "4  0.215153   69.99      0  \n",
       "\n",
       "[5 rows x 31 columns]"
      ]
     },
     "execution_count": 3,
     "metadata": {},
     "output_type": "execute_result"
    }
   ],
   "source": [
    "set_option('display.width', 50)\n",
    "fraud_data.head()"
   ]
  },
  {
   "cell_type": "markdown",
   "metadata": {},
   "source": [
    "<span style='color:blue'>We have 5 rows and 31 columns in this dataset.</span>"
   ]
  },
  {
   "cell_type": "code",
   "execution_count": 4,
   "metadata": {},
   "outputs": [
    {
     "data": {
      "text/plain": [
       "(284807, 31)"
      ]
     },
     "execution_count": 4,
     "metadata": {},
     "output_type": "execute_result"
    }
   ],
   "source": [
    "fraud_data.shape"
   ]
  },
  {
   "cell_type": "markdown",
   "metadata": {},
   "source": [
    "<span style='color:blue'>We have total 284807 rows and 31 columns in this dataset.</span>"
   ]
  },
  {
   "cell_type": "code",
   "execution_count": 5,
   "metadata": {},
   "outputs": [
    {
     "name": "stdout",
     "output_type": "stream",
     "text": [
      "<class 'pandas.core.frame.DataFrame'>\n",
      "RangeIndex: 284807 entries, 0 to 284806\n",
      "Data columns (total 31 columns):\n",
      " #   Column  Non-Null Count   Dtype  \n",
      "---  ------  --------------   -----  \n",
      " 0   Time    284807 non-null  float64\n",
      " 1   V1      284807 non-null  float64\n",
      " 2   V2      284807 non-null  float64\n",
      " 3   V3      284807 non-null  float64\n",
      " 4   V4      284807 non-null  float64\n",
      " 5   V5      284807 non-null  float64\n",
      " 6   V6      284807 non-null  float64\n",
      " 7   V7      284807 non-null  float64\n",
      " 8   V8      284807 non-null  float64\n",
      " 9   V9      284807 non-null  float64\n",
      " 10  V10     284807 non-null  float64\n",
      " 11  V11     284807 non-null  float64\n",
      " 12  V12     284807 non-null  float64\n",
      " 13  V13     284807 non-null  float64\n",
      " 14  V14     284807 non-null  float64\n",
      " 15  V15     284807 non-null  float64\n",
      " 16  V16     284807 non-null  float64\n",
      " 17  V17     284807 non-null  float64\n",
      " 18  V18     284807 non-null  float64\n",
      " 19  V19     284807 non-null  float64\n",
      " 20  V20     284807 non-null  float64\n",
      " 21  V21     284807 non-null  float64\n",
      " 22  V22     284807 non-null  float64\n",
      " 23  V23     284807 non-null  float64\n",
      " 24  V24     284807 non-null  float64\n",
      " 25  V25     284807 non-null  float64\n",
      " 26  V26     284807 non-null  float64\n",
      " 27  V27     284807 non-null  float64\n",
      " 28  V28     284807 non-null  float64\n",
      " 29  Amount  284807 non-null  float64\n",
      " 30  Class   284807 non-null  int64  \n",
      "dtypes: float64(30), int64(1)\n",
      "memory usage: 67.4 MB\n"
     ]
    }
   ],
   "source": [
    "fraud_data.info()"
   ]
  },
  {
   "cell_type": "markdown",
   "metadata": {},
   "source": [
    "##### Observations:\n",
    "- NaN values do not present in the data set. Because Non-Null count = Number of rows.\n",
    "- There are 29 Input Variables and 1 Output Variable (Class)\n",
    "- The data type of all the input variables is float64 whereas the data type of output variable (Class) is int64"
   ]
  },
  {
   "cell_type": "code",
   "execution_count": 6,
   "metadata": {},
   "outputs": [
    {
     "data": {
      "text/plain": [
       "Time      0\n",
       "V1        0\n",
       "V2        0\n",
       "V3        0\n",
       "V4        0\n",
       "V5        0\n",
       "V6        0\n",
       "V7        0\n",
       "V8        0\n",
       "V9        0\n",
       "V10       0\n",
       "V11       0\n",
       "V12       0\n",
       "V13       0\n",
       "V14       0\n",
       "V15       0\n",
       "V16       0\n",
       "V17       0\n",
       "V18       0\n",
       "V19       0\n",
       "V20       0\n",
       "V21       0\n",
       "V22       0\n",
       "V23       0\n",
       "V24       0\n",
       "V25       0\n",
       "V26       0\n",
       "V27       0\n",
       "V28       0\n",
       "Amount    0\n",
       "Class     0\n",
       "dtype: int64"
      ]
     },
     "execution_count": 6,
     "metadata": {},
     "output_type": "execute_result"
    }
   ],
   "source": [
    "fraud_data.isnull().sum()"
   ]
  },
  {
   "cell_type": "markdown",
   "metadata": {},
   "source": [
    "<span style='color:blue'>The dataset doesn't contain any non values.</span>"
   ]
  },
  {
   "cell_type": "code",
   "execution_count": 7,
   "metadata": {},
   "outputs": [],
   "source": [
    "# EDA\n",
    "# DataFrame.describe() is used to get the descriptive statistics\n",
    "# Only show numerical data\n",
    "# when passed with arg include='all', describe for all type including categorical data"
   ]
  },
  {
   "cell_type": "code",
   "execution_count": 8,
   "metadata": {},
   "outputs": [
    {
     "data": {
      "text/html": [
       "<div>\n",
       "<style scoped>\n",
       "    .dataframe tbody tr th:only-of-type {\n",
       "        vertical-align: middle;\n",
       "    }\n",
       "\n",
       "    .dataframe tbody tr th {\n",
       "        vertical-align: top;\n",
       "    }\n",
       "\n",
       "    .dataframe thead th {\n",
       "        text-align: right;\n",
       "    }\n",
       "</style>\n",
       "<table border=\"1\" class=\"dataframe\">\n",
       "  <thead>\n",
       "    <tr style=\"text-align: right;\">\n",
       "      <th></th>\n",
       "      <th>Time</th>\n",
       "      <th>V1</th>\n",
       "      <th>V2</th>\n",
       "      <th>V3</th>\n",
       "      <th>V4</th>\n",
       "      <th>V5</th>\n",
       "      <th>V6</th>\n",
       "      <th>V7</th>\n",
       "      <th>V8</th>\n",
       "      <th>V9</th>\n",
       "      <th>...</th>\n",
       "      <th>V21</th>\n",
       "      <th>V22</th>\n",
       "      <th>V23</th>\n",
       "      <th>V24</th>\n",
       "      <th>V25</th>\n",
       "      <th>V26</th>\n",
       "      <th>V27</th>\n",
       "      <th>V28</th>\n",
       "      <th>Amount</th>\n",
       "      <th>Class</th>\n",
       "    </tr>\n",
       "  </thead>\n",
       "  <tbody>\n",
       "    <tr>\n",
       "      <th>count</th>\n",
       "      <td>284807.000000</td>\n",
       "      <td>2.848070e+05</td>\n",
       "      <td>2.848070e+05</td>\n",
       "      <td>2.848070e+05</td>\n",
       "      <td>2.848070e+05</td>\n",
       "      <td>2.848070e+05</td>\n",
       "      <td>2.848070e+05</td>\n",
       "      <td>2.848070e+05</td>\n",
       "      <td>2.848070e+05</td>\n",
       "      <td>2.848070e+05</td>\n",
       "      <td>...</td>\n",
       "      <td>2.848070e+05</td>\n",
       "      <td>2.848070e+05</td>\n",
       "      <td>2.848070e+05</td>\n",
       "      <td>2.848070e+05</td>\n",
       "      <td>2.848070e+05</td>\n",
       "      <td>2.848070e+05</td>\n",
       "      <td>2.848070e+05</td>\n",
       "      <td>2.848070e+05</td>\n",
       "      <td>284807.000000</td>\n",
       "      <td>284807.000000</td>\n",
       "    </tr>\n",
       "    <tr>\n",
       "      <th>mean</th>\n",
       "      <td>94813.859575</td>\n",
       "      <td>3.919560e-15</td>\n",
       "      <td>5.688174e-16</td>\n",
       "      <td>-8.769071e-15</td>\n",
       "      <td>2.782312e-15</td>\n",
       "      <td>-1.552563e-15</td>\n",
       "      <td>2.010663e-15</td>\n",
       "      <td>-1.694249e-15</td>\n",
       "      <td>-1.927028e-16</td>\n",
       "      <td>-3.137024e-15</td>\n",
       "      <td>...</td>\n",
       "      <td>1.537294e-16</td>\n",
       "      <td>7.959909e-16</td>\n",
       "      <td>5.367590e-16</td>\n",
       "      <td>4.458112e-15</td>\n",
       "      <td>1.453003e-15</td>\n",
       "      <td>1.699104e-15</td>\n",
       "      <td>-3.660161e-16</td>\n",
       "      <td>-1.206049e-16</td>\n",
       "      <td>88.349619</td>\n",
       "      <td>0.001727</td>\n",
       "    </tr>\n",
       "    <tr>\n",
       "      <th>std</th>\n",
       "      <td>47488.145955</td>\n",
       "      <td>1.958696e+00</td>\n",
       "      <td>1.651309e+00</td>\n",
       "      <td>1.516255e+00</td>\n",
       "      <td>1.415869e+00</td>\n",
       "      <td>1.380247e+00</td>\n",
       "      <td>1.332271e+00</td>\n",
       "      <td>1.237094e+00</td>\n",
       "      <td>1.194353e+00</td>\n",
       "      <td>1.098632e+00</td>\n",
       "      <td>...</td>\n",
       "      <td>7.345240e-01</td>\n",
       "      <td>7.257016e-01</td>\n",
       "      <td>6.244603e-01</td>\n",
       "      <td>6.056471e-01</td>\n",
       "      <td>5.212781e-01</td>\n",
       "      <td>4.822270e-01</td>\n",
       "      <td>4.036325e-01</td>\n",
       "      <td>3.300833e-01</td>\n",
       "      <td>250.120109</td>\n",
       "      <td>0.041527</td>\n",
       "    </tr>\n",
       "    <tr>\n",
       "      <th>min</th>\n",
       "      <td>0.000000</td>\n",
       "      <td>-5.640751e+01</td>\n",
       "      <td>-7.271573e+01</td>\n",
       "      <td>-4.832559e+01</td>\n",
       "      <td>-5.683171e+00</td>\n",
       "      <td>-1.137433e+02</td>\n",
       "      <td>-2.616051e+01</td>\n",
       "      <td>-4.355724e+01</td>\n",
       "      <td>-7.321672e+01</td>\n",
       "      <td>-1.343407e+01</td>\n",
       "      <td>...</td>\n",
       "      <td>-3.483038e+01</td>\n",
       "      <td>-1.093314e+01</td>\n",
       "      <td>-4.480774e+01</td>\n",
       "      <td>-2.836627e+00</td>\n",
       "      <td>-1.029540e+01</td>\n",
       "      <td>-2.604551e+00</td>\n",
       "      <td>-2.256568e+01</td>\n",
       "      <td>-1.543008e+01</td>\n",
       "      <td>0.000000</td>\n",
       "      <td>0.000000</td>\n",
       "    </tr>\n",
       "    <tr>\n",
       "      <th>25%</th>\n",
       "      <td>54201.500000</td>\n",
       "      <td>-9.203734e-01</td>\n",
       "      <td>-5.985499e-01</td>\n",
       "      <td>-8.903648e-01</td>\n",
       "      <td>-8.486401e-01</td>\n",
       "      <td>-6.915971e-01</td>\n",
       "      <td>-7.682956e-01</td>\n",
       "      <td>-5.540759e-01</td>\n",
       "      <td>-2.086297e-01</td>\n",
       "      <td>-6.430976e-01</td>\n",
       "      <td>...</td>\n",
       "      <td>-2.283949e-01</td>\n",
       "      <td>-5.423504e-01</td>\n",
       "      <td>-1.618463e-01</td>\n",
       "      <td>-3.545861e-01</td>\n",
       "      <td>-3.171451e-01</td>\n",
       "      <td>-3.269839e-01</td>\n",
       "      <td>-7.083953e-02</td>\n",
       "      <td>-5.295979e-02</td>\n",
       "      <td>5.600000</td>\n",
       "      <td>0.000000</td>\n",
       "    </tr>\n",
       "    <tr>\n",
       "      <th>50%</th>\n",
       "      <td>84692.000000</td>\n",
       "      <td>1.810880e-02</td>\n",
       "      <td>6.548556e-02</td>\n",
       "      <td>1.798463e-01</td>\n",
       "      <td>-1.984653e-02</td>\n",
       "      <td>-5.433583e-02</td>\n",
       "      <td>-2.741871e-01</td>\n",
       "      <td>4.010308e-02</td>\n",
       "      <td>2.235804e-02</td>\n",
       "      <td>-5.142873e-02</td>\n",
       "      <td>...</td>\n",
       "      <td>-2.945017e-02</td>\n",
       "      <td>6.781943e-03</td>\n",
       "      <td>-1.119293e-02</td>\n",
       "      <td>4.097606e-02</td>\n",
       "      <td>1.659350e-02</td>\n",
       "      <td>-5.213911e-02</td>\n",
       "      <td>1.342146e-03</td>\n",
       "      <td>1.124383e-02</td>\n",
       "      <td>22.000000</td>\n",
       "      <td>0.000000</td>\n",
       "    </tr>\n",
       "    <tr>\n",
       "      <th>75%</th>\n",
       "      <td>139320.500000</td>\n",
       "      <td>1.315642e+00</td>\n",
       "      <td>8.037239e-01</td>\n",
       "      <td>1.027196e+00</td>\n",
       "      <td>7.433413e-01</td>\n",
       "      <td>6.119264e-01</td>\n",
       "      <td>3.985649e-01</td>\n",
       "      <td>5.704361e-01</td>\n",
       "      <td>3.273459e-01</td>\n",
       "      <td>5.971390e-01</td>\n",
       "      <td>...</td>\n",
       "      <td>1.863772e-01</td>\n",
       "      <td>5.285536e-01</td>\n",
       "      <td>1.476421e-01</td>\n",
       "      <td>4.395266e-01</td>\n",
       "      <td>3.507156e-01</td>\n",
       "      <td>2.409522e-01</td>\n",
       "      <td>9.104512e-02</td>\n",
       "      <td>7.827995e-02</td>\n",
       "      <td>77.165000</td>\n",
       "      <td>0.000000</td>\n",
       "    </tr>\n",
       "    <tr>\n",
       "      <th>max</th>\n",
       "      <td>172792.000000</td>\n",
       "      <td>2.454930e+00</td>\n",
       "      <td>2.205773e+01</td>\n",
       "      <td>9.382558e+00</td>\n",
       "      <td>1.687534e+01</td>\n",
       "      <td>3.480167e+01</td>\n",
       "      <td>7.330163e+01</td>\n",
       "      <td>1.205895e+02</td>\n",
       "      <td>2.000721e+01</td>\n",
       "      <td>1.559499e+01</td>\n",
       "      <td>...</td>\n",
       "      <td>2.720284e+01</td>\n",
       "      <td>1.050309e+01</td>\n",
       "      <td>2.252841e+01</td>\n",
       "      <td>4.584549e+00</td>\n",
       "      <td>7.519589e+00</td>\n",
       "      <td>3.517346e+00</td>\n",
       "      <td>3.161220e+01</td>\n",
       "      <td>3.384781e+01</td>\n",
       "      <td>25691.160000</td>\n",
       "      <td>1.000000</td>\n",
       "    </tr>\n",
       "  </tbody>\n",
       "</table>\n",
       "<p>8 rows × 31 columns</p>\n",
       "</div>"
      ],
      "text/plain": [
       "                Time            V1  \\\n",
       "count  284807.000000  2.848070e+05   \n",
       "mean    94813.859575  3.919560e-15   \n",
       "std     47488.145955  1.958696e+00   \n",
       "min         0.000000 -5.640751e+01   \n",
       "25%     54201.500000 -9.203734e-01   \n",
       "50%     84692.000000  1.810880e-02   \n",
       "75%    139320.500000  1.315642e+00   \n",
       "max    172792.000000  2.454930e+00   \n",
       "\n",
       "                 V2            V3            V4  \\\n",
       "count  2.848070e+05  2.848070e+05  2.848070e+05   \n",
       "mean   5.688174e-16 -8.769071e-15  2.782312e-15   \n",
       "std    1.651309e+00  1.516255e+00  1.415869e+00   \n",
       "min   -7.271573e+01 -4.832559e+01 -5.683171e+00   \n",
       "25%   -5.985499e-01 -8.903648e-01 -8.486401e-01   \n",
       "50%    6.548556e-02  1.798463e-01 -1.984653e-02   \n",
       "75%    8.037239e-01  1.027196e+00  7.433413e-01   \n",
       "max    2.205773e+01  9.382558e+00  1.687534e+01   \n",
       "\n",
       "                 V5            V6            V7  \\\n",
       "count  2.848070e+05  2.848070e+05  2.848070e+05   \n",
       "mean  -1.552563e-15  2.010663e-15 -1.694249e-15   \n",
       "std    1.380247e+00  1.332271e+00  1.237094e+00   \n",
       "min   -1.137433e+02 -2.616051e+01 -4.355724e+01   \n",
       "25%   -6.915971e-01 -7.682956e-01 -5.540759e-01   \n",
       "50%   -5.433583e-02 -2.741871e-01  4.010308e-02   \n",
       "75%    6.119264e-01  3.985649e-01  5.704361e-01   \n",
       "max    3.480167e+01  7.330163e+01  1.205895e+02   \n",
       "\n",
       "                 V8            V9  ...  \\\n",
       "count  2.848070e+05  2.848070e+05  ...   \n",
       "mean  -1.927028e-16 -3.137024e-15  ...   \n",
       "std    1.194353e+00  1.098632e+00  ...   \n",
       "min   -7.321672e+01 -1.343407e+01  ...   \n",
       "25%   -2.086297e-01 -6.430976e-01  ...   \n",
       "50%    2.235804e-02 -5.142873e-02  ...   \n",
       "75%    3.273459e-01  5.971390e-01  ...   \n",
       "max    2.000721e+01  1.559499e+01  ...   \n",
       "\n",
       "                V21           V22           V23  \\\n",
       "count  2.848070e+05  2.848070e+05  2.848070e+05   \n",
       "mean   1.537294e-16  7.959909e-16  5.367590e-16   \n",
       "std    7.345240e-01  7.257016e-01  6.244603e-01   \n",
       "min   -3.483038e+01 -1.093314e+01 -4.480774e+01   \n",
       "25%   -2.283949e-01 -5.423504e-01 -1.618463e-01   \n",
       "50%   -2.945017e-02  6.781943e-03 -1.119293e-02   \n",
       "75%    1.863772e-01  5.285536e-01  1.476421e-01   \n",
       "max    2.720284e+01  1.050309e+01  2.252841e+01   \n",
       "\n",
       "                V24           V25           V26  \\\n",
       "count  2.848070e+05  2.848070e+05  2.848070e+05   \n",
       "mean   4.458112e-15  1.453003e-15  1.699104e-15   \n",
       "std    6.056471e-01  5.212781e-01  4.822270e-01   \n",
       "min   -2.836627e+00 -1.029540e+01 -2.604551e+00   \n",
       "25%   -3.545861e-01 -3.171451e-01 -3.269839e-01   \n",
       "50%    4.097606e-02  1.659350e-02 -5.213911e-02   \n",
       "75%    4.395266e-01  3.507156e-01  2.409522e-01   \n",
       "max    4.584549e+00  7.519589e+00  3.517346e+00   \n",
       "\n",
       "                V27           V28  \\\n",
       "count  2.848070e+05  2.848070e+05   \n",
       "mean  -3.660161e-16 -1.206049e-16   \n",
       "std    4.036325e-01  3.300833e-01   \n",
       "min   -2.256568e+01 -1.543008e+01   \n",
       "25%   -7.083953e-02 -5.295979e-02   \n",
       "50%    1.342146e-03  1.124383e-02   \n",
       "75%    9.104512e-02  7.827995e-02   \n",
       "max    3.161220e+01  3.384781e+01   \n",
       "\n",
       "              Amount          Class  \n",
       "count  284807.000000  284807.000000  \n",
       "mean       88.349619       0.001727  \n",
       "std       250.120109       0.041527  \n",
       "min         0.000000       0.000000  \n",
       "25%         5.600000       0.000000  \n",
       "50%        22.000000       0.000000  \n",
       "75%        77.165000       0.000000  \n",
       "max     25691.160000       1.000000  \n",
       "\n",
       "[8 rows x 31 columns]"
      ]
     },
     "execution_count": 8,
     "metadata": {},
     "output_type": "execute_result"
    }
   ],
   "source": [
    "set_option('display.width', 50)\n",
    "fraud_data.describe()"
   ]
  },
  {
   "cell_type": "code",
   "execution_count": 9,
   "metadata": {},
   "outputs": [
    {
     "data": {
      "text/html": [
       "<div>\n",
       "<style scoped>\n",
       "    .dataframe tbody tr th:only-of-type {\n",
       "        vertical-align: middle;\n",
       "    }\n",
       "\n",
       "    .dataframe tbody tr th {\n",
       "        vertical-align: top;\n",
       "    }\n",
       "\n",
       "    .dataframe thead th {\n",
       "        text-align: right;\n",
       "    }\n",
       "</style>\n",
       "<table border=\"1\" class=\"dataframe\">\n",
       "  <thead>\n",
       "    <tr style=\"text-align: right;\">\n",
       "      <th></th>\n",
       "      <th>Time</th>\n",
       "      <th>V1</th>\n",
       "      <th>V2</th>\n",
       "      <th>V3</th>\n",
       "      <th>V4</th>\n",
       "      <th>V5</th>\n",
       "      <th>V6</th>\n",
       "      <th>V7</th>\n",
       "      <th>V8</th>\n",
       "      <th>V9</th>\n",
       "      <th>...</th>\n",
       "      <th>V21</th>\n",
       "      <th>V22</th>\n",
       "      <th>V23</th>\n",
       "      <th>V24</th>\n",
       "      <th>V25</th>\n",
       "      <th>V26</th>\n",
       "      <th>V27</th>\n",
       "      <th>V28</th>\n",
       "      <th>Amount</th>\n",
       "      <th>Class</th>\n",
       "    </tr>\n",
       "  </thead>\n",
       "  <tbody>\n",
       "    <tr>\n",
       "      <th>count</th>\n",
       "      <td>284807.000</td>\n",
       "      <td>2.848e+05</td>\n",
       "      <td>2.848e+05</td>\n",
       "      <td>2.848e+05</td>\n",
       "      <td>2.848e+05</td>\n",
       "      <td>2.848e+05</td>\n",
       "      <td>2.848e+05</td>\n",
       "      <td>2.848e+05</td>\n",
       "      <td>2.848e+05</td>\n",
       "      <td>2.848e+05</td>\n",
       "      <td>...</td>\n",
       "      <td>2.848e+05</td>\n",
       "      <td>2.848e+05</td>\n",
       "      <td>2.848e+05</td>\n",
       "      <td>2.848e+05</td>\n",
       "      <td>2.848e+05</td>\n",
       "      <td>2.848e+05</td>\n",
       "      <td>2.848e+05</td>\n",
       "      <td>2.848e+05</td>\n",
       "      <td>284807.000</td>\n",
       "      <td>284807.000</td>\n",
       "    </tr>\n",
       "    <tr>\n",
       "      <th>mean</th>\n",
       "      <td>94813.860</td>\n",
       "      <td>3.920e-15</td>\n",
       "      <td>5.688e-16</td>\n",
       "      <td>-8.769e-15</td>\n",
       "      <td>2.782e-15</td>\n",
       "      <td>-1.553e-15</td>\n",
       "      <td>2.011e-15</td>\n",
       "      <td>-1.694e-15</td>\n",
       "      <td>-1.927e-16</td>\n",
       "      <td>-3.137e-15</td>\n",
       "      <td>...</td>\n",
       "      <td>1.537e-16</td>\n",
       "      <td>7.960e-16</td>\n",
       "      <td>5.368e-16</td>\n",
       "      <td>4.458e-15</td>\n",
       "      <td>1.453e-15</td>\n",
       "      <td>1.699e-15</td>\n",
       "      <td>-3.660e-16</td>\n",
       "      <td>-1.206e-16</td>\n",
       "      <td>88.350</td>\n",
       "      <td>0.002</td>\n",
       "    </tr>\n",
       "    <tr>\n",
       "      <th>std</th>\n",
       "      <td>47488.146</td>\n",
       "      <td>1.959e+00</td>\n",
       "      <td>1.651e+00</td>\n",
       "      <td>1.516e+00</td>\n",
       "      <td>1.416e+00</td>\n",
       "      <td>1.380e+00</td>\n",
       "      <td>1.332e+00</td>\n",
       "      <td>1.237e+00</td>\n",
       "      <td>1.194e+00</td>\n",
       "      <td>1.099e+00</td>\n",
       "      <td>...</td>\n",
       "      <td>7.345e-01</td>\n",
       "      <td>7.257e-01</td>\n",
       "      <td>6.245e-01</td>\n",
       "      <td>6.056e-01</td>\n",
       "      <td>5.213e-01</td>\n",
       "      <td>4.822e-01</td>\n",
       "      <td>4.036e-01</td>\n",
       "      <td>3.301e-01</td>\n",
       "      <td>250.120</td>\n",
       "      <td>0.042</td>\n",
       "    </tr>\n",
       "    <tr>\n",
       "      <th>min</th>\n",
       "      <td>0.000</td>\n",
       "      <td>-5.641e+01</td>\n",
       "      <td>-7.272e+01</td>\n",
       "      <td>-4.833e+01</td>\n",
       "      <td>-5.683e+00</td>\n",
       "      <td>-1.137e+02</td>\n",
       "      <td>-2.616e+01</td>\n",
       "      <td>-4.356e+01</td>\n",
       "      <td>-7.322e+01</td>\n",
       "      <td>-1.343e+01</td>\n",
       "      <td>...</td>\n",
       "      <td>-3.483e+01</td>\n",
       "      <td>-1.093e+01</td>\n",
       "      <td>-4.481e+01</td>\n",
       "      <td>-2.837e+00</td>\n",
       "      <td>-1.030e+01</td>\n",
       "      <td>-2.605e+00</td>\n",
       "      <td>-2.257e+01</td>\n",
       "      <td>-1.543e+01</td>\n",
       "      <td>0.000</td>\n",
       "      <td>0.000</td>\n",
       "    </tr>\n",
       "    <tr>\n",
       "      <th>25%</th>\n",
       "      <td>54201.500</td>\n",
       "      <td>-9.204e-01</td>\n",
       "      <td>-5.985e-01</td>\n",
       "      <td>-8.904e-01</td>\n",
       "      <td>-8.486e-01</td>\n",
       "      <td>-6.916e-01</td>\n",
       "      <td>-7.683e-01</td>\n",
       "      <td>-5.541e-01</td>\n",
       "      <td>-2.086e-01</td>\n",
       "      <td>-6.431e-01</td>\n",
       "      <td>...</td>\n",
       "      <td>-2.284e-01</td>\n",
       "      <td>-5.424e-01</td>\n",
       "      <td>-1.618e-01</td>\n",
       "      <td>-3.546e-01</td>\n",
       "      <td>-3.171e-01</td>\n",
       "      <td>-3.270e-01</td>\n",
       "      <td>-7.084e-02</td>\n",
       "      <td>-5.296e-02</td>\n",
       "      <td>5.600</td>\n",
       "      <td>0.000</td>\n",
       "    </tr>\n",
       "    <tr>\n",
       "      <th>50%</th>\n",
       "      <td>84692.000</td>\n",
       "      <td>1.811e-02</td>\n",
       "      <td>6.549e-02</td>\n",
       "      <td>1.798e-01</td>\n",
       "      <td>-1.985e-02</td>\n",
       "      <td>-5.434e-02</td>\n",
       "      <td>-2.742e-01</td>\n",
       "      <td>4.010e-02</td>\n",
       "      <td>2.236e-02</td>\n",
       "      <td>-5.143e-02</td>\n",
       "      <td>...</td>\n",
       "      <td>-2.945e-02</td>\n",
       "      <td>6.782e-03</td>\n",
       "      <td>-1.119e-02</td>\n",
       "      <td>4.098e-02</td>\n",
       "      <td>1.659e-02</td>\n",
       "      <td>-5.214e-02</td>\n",
       "      <td>1.342e-03</td>\n",
       "      <td>1.124e-02</td>\n",
       "      <td>22.000</td>\n",
       "      <td>0.000</td>\n",
       "    </tr>\n",
       "    <tr>\n",
       "      <th>75%</th>\n",
       "      <td>139320.500</td>\n",
       "      <td>1.316e+00</td>\n",
       "      <td>8.037e-01</td>\n",
       "      <td>1.027e+00</td>\n",
       "      <td>7.433e-01</td>\n",
       "      <td>6.119e-01</td>\n",
       "      <td>3.986e-01</td>\n",
       "      <td>5.704e-01</td>\n",
       "      <td>3.273e-01</td>\n",
       "      <td>5.971e-01</td>\n",
       "      <td>...</td>\n",
       "      <td>1.864e-01</td>\n",
       "      <td>5.286e-01</td>\n",
       "      <td>1.476e-01</td>\n",
       "      <td>4.395e-01</td>\n",
       "      <td>3.507e-01</td>\n",
       "      <td>2.410e-01</td>\n",
       "      <td>9.105e-02</td>\n",
       "      <td>7.828e-02</td>\n",
       "      <td>77.165</td>\n",
       "      <td>0.000</td>\n",
       "    </tr>\n",
       "    <tr>\n",
       "      <th>max</th>\n",
       "      <td>172792.000</td>\n",
       "      <td>2.455e+00</td>\n",
       "      <td>2.206e+01</td>\n",
       "      <td>9.383e+00</td>\n",
       "      <td>1.688e+01</td>\n",
       "      <td>3.480e+01</td>\n",
       "      <td>7.330e+01</td>\n",
       "      <td>1.206e+02</td>\n",
       "      <td>2.001e+01</td>\n",
       "      <td>1.559e+01</td>\n",
       "      <td>...</td>\n",
       "      <td>2.720e+01</td>\n",
       "      <td>1.050e+01</td>\n",
       "      <td>2.253e+01</td>\n",
       "      <td>4.585e+00</td>\n",
       "      <td>7.520e+00</td>\n",
       "      <td>3.517e+00</td>\n",
       "      <td>3.161e+01</td>\n",
       "      <td>3.385e+01</td>\n",
       "      <td>25691.160</td>\n",
       "      <td>1.000</td>\n",
       "    </tr>\n",
       "  </tbody>\n",
       "</table>\n",
       "<p>8 rows × 31 columns</p>\n",
       "</div>"
      ],
      "text/plain": [
       "             Time         V1         V2  \\\n",
       "count  284807.000  2.848e+05  2.848e+05   \n",
       "mean    94813.860  3.920e-15  5.688e-16   \n",
       "std     47488.146  1.959e+00  1.651e+00   \n",
       "min         0.000 -5.641e+01 -7.272e+01   \n",
       "25%     54201.500 -9.204e-01 -5.985e-01   \n",
       "50%     84692.000  1.811e-02  6.549e-02   \n",
       "75%    139320.500  1.316e+00  8.037e-01   \n",
       "max    172792.000  2.455e+00  2.206e+01   \n",
       "\n",
       "              V3         V4         V5  \\\n",
       "count  2.848e+05  2.848e+05  2.848e+05   \n",
       "mean  -8.769e-15  2.782e-15 -1.553e-15   \n",
       "std    1.516e+00  1.416e+00  1.380e+00   \n",
       "min   -4.833e+01 -5.683e+00 -1.137e+02   \n",
       "25%   -8.904e-01 -8.486e-01 -6.916e-01   \n",
       "50%    1.798e-01 -1.985e-02 -5.434e-02   \n",
       "75%    1.027e+00  7.433e-01  6.119e-01   \n",
       "max    9.383e+00  1.688e+01  3.480e+01   \n",
       "\n",
       "              V6         V7         V8  \\\n",
       "count  2.848e+05  2.848e+05  2.848e+05   \n",
       "mean   2.011e-15 -1.694e-15 -1.927e-16   \n",
       "std    1.332e+00  1.237e+00  1.194e+00   \n",
       "min   -2.616e+01 -4.356e+01 -7.322e+01   \n",
       "25%   -7.683e-01 -5.541e-01 -2.086e-01   \n",
       "50%   -2.742e-01  4.010e-02  2.236e-02   \n",
       "75%    3.986e-01  5.704e-01  3.273e-01   \n",
       "max    7.330e+01  1.206e+02  2.001e+01   \n",
       "\n",
       "              V9  ...        V21        V22  \\\n",
       "count  2.848e+05  ...  2.848e+05  2.848e+05   \n",
       "mean  -3.137e-15  ...  1.537e-16  7.960e-16   \n",
       "std    1.099e+00  ...  7.345e-01  7.257e-01   \n",
       "min   -1.343e+01  ... -3.483e+01 -1.093e+01   \n",
       "25%   -6.431e-01  ... -2.284e-01 -5.424e-01   \n",
       "50%   -5.143e-02  ... -2.945e-02  6.782e-03   \n",
       "75%    5.971e-01  ...  1.864e-01  5.286e-01   \n",
       "max    1.559e+01  ...  2.720e+01  1.050e+01   \n",
       "\n",
       "             V23        V24        V25  \\\n",
       "count  2.848e+05  2.848e+05  2.848e+05   \n",
       "mean   5.368e-16  4.458e-15  1.453e-15   \n",
       "std    6.245e-01  6.056e-01  5.213e-01   \n",
       "min   -4.481e+01 -2.837e+00 -1.030e+01   \n",
       "25%   -1.618e-01 -3.546e-01 -3.171e-01   \n",
       "50%   -1.119e-02  4.098e-02  1.659e-02   \n",
       "75%    1.476e-01  4.395e-01  3.507e-01   \n",
       "max    2.253e+01  4.585e+00  7.520e+00   \n",
       "\n",
       "             V26        V27        V28  \\\n",
       "count  2.848e+05  2.848e+05  2.848e+05   \n",
       "mean   1.699e-15 -3.660e-16 -1.206e-16   \n",
       "std    4.822e-01  4.036e-01  3.301e-01   \n",
       "min   -2.605e+00 -2.257e+01 -1.543e+01   \n",
       "25%   -3.270e-01 -7.084e-02 -5.296e-02   \n",
       "50%   -5.214e-02  1.342e-03  1.124e-02   \n",
       "75%    2.410e-01  9.105e-02  7.828e-02   \n",
       "max    3.517e+00  3.161e+01  3.385e+01   \n",
       "\n",
       "           Amount       Class  \n",
       "count  284807.000  284807.000  \n",
       "mean       88.350       0.002  \n",
       "std       250.120       0.042  \n",
       "min         0.000       0.000  \n",
       "25%         5.600       0.000  \n",
       "50%        22.000       0.000  \n",
       "75%        77.165       0.000  \n",
       "max     25691.160       1.000  \n",
       "\n",
       "[8 rows x 31 columns]"
      ]
     },
     "execution_count": 9,
     "metadata": {},
     "output_type": "execute_result"
    }
   ],
   "source": [
    "set_option('precision', 3)\n",
    "fraud_data.describe(include='all')"
   ]
  },
  {
   "cell_type": "code",
   "execution_count": 10,
   "metadata": {},
   "outputs": [],
   "source": [
    "# Data for the variables from v1 to v28 is already scaled and cleaned."
   ]
  },
  {
   "cell_type": "markdown",
   "metadata": {},
   "source": [
    "### Response variable analysis"
   ]
  },
  {
   "cell_type": "code",
   "execution_count": 11,
   "metadata": {},
   "outputs": [
    {
     "name": "stdout",
     "output_type": "stream",
     "text": [
      "Not Fraud    284315\n",
      "Fraud           492\n",
      "Name: Class, dtype: int64\n"
     ]
    }
   ],
   "source": [
    "class_names = {0: 'Not Fraud', 1: 'Fraud'}\n",
    "print(fraud_data.Class.value_counts().rename(index = class_names))"
   ]
  },
  {
   "cell_type": "markdown",
   "metadata": {},
   "source": [
    "<span style='color:blue'>The dataset is imbalanced, bcz majority of transactions are non-fraud.</span>"
   ]
  },
  {
   "cell_type": "code",
   "execution_count": 12,
   "metadata": {},
   "outputs": [
    {
     "name": "stdout",
     "output_type": "stream",
     "text": [
      "0    284315\n",
      "1       492\n",
      "Name: Class, dtype: int64\n"
     ]
    }
   ],
   "source": [
    "print(fraud_data.Class.value_counts())"
   ]
  },
  {
   "cell_type": "markdown",
   "metadata": {},
   "source": [
    "### Data visualization and Data cleaning"
   ]
  },
  {
   "cell_type": "code",
   "execution_count": 13,
   "metadata": {},
   "outputs": [],
   "source": [
    "# data cleaning is not required for this dataset as it is already cleaned."
   ]
  },
  {
   "cell_type": "markdown",
   "metadata": {},
   "source": [
    "### Train Test split"
   ]
  },
  {
   "cell_type": "code",
   "execution_count": 14,
   "metadata": {},
   "outputs": [],
   "source": [
    "# Data is splitted in training set and testing set\n",
    "# Since dataset is imbalanced we will balance it using 'stratified sampling' -i.e.- \n",
    "# both train and test sets contain fraud and non-fraud customers in same ratio"
   ]
  },
  {
   "cell_type": "code",
   "execution_count": 15,
   "metadata": {},
   "outputs": [],
   "source": [
    "# Parameters:\n",
    "# 1: x (input_features)\n",
    "# 2: y (output_features)\n",
    "# 3: test_size\n",
    "# 4: random_state\n",
    "# 5: stratify"
   ]
  },
  {
   "cell_type": "code",
   "execution_count": 16,
   "metadata": {},
   "outputs": [],
   "source": [
    "# Train Test split\n",
    "\n",
    "from sklearn.model_selection import train_test_split\n",
    "\n",
    "y = fraud_data['Class']\n",
    "x = fraud_data.loc[:, fraud_data.columns != 'Class']\n",
    "x_train, x_test, y_train, y_test = train_test_split(x, y, test_size = 1/3, random_state = 42, stratify = y)"
   ]
  },
  {
   "cell_type": "code",
   "execution_count": 17,
   "metadata": {},
   "outputs": [],
   "source": [
    "## Observe what the test_size is doing:\n",
    "\n",
    "# print(fraud_data.shape)\n",
    "# print(x_train.shape)\n",
    "# print(y_test.shape)\n",
    "# print(284807/3)"
   ]
  },
  {
   "cell_type": "code",
   "execution_count": 18,
   "metadata": {},
   "outputs": [],
   "source": [
    "# 17-08-2021"
   ]
  },
  {
   "cell_type": "markdown",
   "metadata": {},
   "source": [
    "### Data Modeling"
   ]
  },
  {
   "cell_type": "markdown",
   "metadata": {},
   "source": [
    "#### 1. Logistic Regression\n",
    "- Linear model\n",
    "- Intitutive model for classification\\\n",
    "Accuracy: How many points are correctly classified from given points."
   ]
  },
  {
   "cell_type": "code",
   "execution_count": 19,
   "metadata": {},
   "outputs": [
    {
     "name": "stdout",
     "output_type": "stream",
     "text": [
      "Accuracy of Logistic Regression model: 99.9\n"
     ]
    },
    {
     "name": "stderr",
     "output_type": "stream",
     "text": [
      "C:\\Users\\ishan\\anaconda3\\lib\\site-packages\\sklearn\\linear_model\\_logistic.py:762: ConvergenceWarning: lbfgs failed to converge (status=1):\n",
      "STOP: TOTAL NO. of ITERATIONS REACHED LIMIT.\n",
      "\n",
      "Increase the number of iterations (max_iter) or scale the data as shown in:\n",
      "    https://scikit-learn.org/stable/modules/preprocessing.html\n",
      "Please also refer to the documentation for alternative solver options:\n",
      "    https://scikit-learn.org/stable/modules/linear_model.html#logistic-regression\n",
      "  n_iter_i = _check_optimize_result(\n"
     ]
    }
   ],
   "source": [
    "# Import library for accuracy score\n",
    "from sklearn.metrics import accuracy_score\n",
    "\n",
    "# Import library for logistic regression\n",
    "from sklearn.linear_model import LogisticRegression\n",
    "\n",
    "# Initialize the Logistic Regression Classifier\n",
    "logisreg_model = LogisticRegression()\n",
    "\n",
    "# Train the model using Training dataset\n",
    "logisreg_model.fit(x_train, y_train)\n",
    "\n",
    "# Prediction using test data\n",
    "y_pred_logisreg = logisreg_model.predict(x_test)\n",
    "\n",
    "# Calculate model accuracy by comparing y_test and y_pred\n",
    "acc_logisreg = round(accuracy_score(y_test, y_pred_logisreg) * 100, 2)\n",
    "print(f\"Accuracy of Logistic Regression model: {acc_logisreg}\")"
   ]
  },
  {
   "cell_type": "markdown",
   "metadata": {},
   "source": [
    "#### 2. Linear Discriminant Analysis"
   ]
  },
  {
   "cell_type": "code",
   "execution_count": 20,
   "metadata": {},
   "outputs": [
    {
     "name": "stdout",
     "output_type": "stream",
     "text": [
      "Accuracy of Linear Discriminant Analysis classifier: 99.93\n"
     ]
    }
   ],
   "source": [
    "# Import library for Linear Discriminant Analysis\n",
    "from sklearn.discriminant_analysis import LinearDiscriminantAnalysis\n",
    "\n",
    "# Initialize  the Linear Discriminant Analysis classifier\n",
    "lda_model = LinearDiscriminantAnalysis()\n",
    "\n",
    "# Train the model using training dataset\n",
    "lda_model.fit(x_train, y_train)\n",
    "\n",
    "# Prediction using test dataset\n",
    "y_pred_lda = lda_model.predict(x_test)\n",
    "\n",
    "# Calculate model accuracy by comparing y_test and y_pred\n",
    "acc_lda = round(accuracy_score(y_test, y_pred_lda) * 100, 2)\n",
    "print(f\"Accuracy of Linear Discriminant Analysis classifier: {acc_lda}\")"
   ]
  },
  {
   "cell_type": "markdown",
   "metadata": {},
   "source": [
    "#### 3. Gaussian Naive Bayes\n",
    "- Probablistic classifier\n",
    "- Based on conditional probability\n",
    "- Used for both classification and regression"
   ]
  },
  {
   "cell_type": "code",
   "execution_count": 21,
   "metadata": {},
   "outputs": [
    {
     "name": "stdout",
     "output_type": "stream",
     "text": [
      "Accuracy of Gaussian Naive Bayes classifier: 99.28\n"
     ]
    }
   ],
   "source": [
    "# Import library for Gaussian Naive Bayes\n",
    "from sklearn.naive_bayes import GaussianNB\n",
    "\n",
    "# Initialize the Gaussian Naive Bayes classifier\n",
    "ganb_model = GaussianNB()\n",
    "\n",
    "# Train the model using training dataset\n",
    "ganb_model.fit(x_train, y_train)\n",
    "\n",
    "# Prediction using test data\n",
    "y_pred_ganb = ganb_model.predict(x_test)\n",
    "\n",
    "# Claculate model accuracy by comparing y_test and y_pred\n",
    "acc_ganb = round(accuracy_score(y_test, y_pred_ganb) * 100, 2)\n",
    "print(f\"Accuracy of Gaussian Naive Bayes classifier: {acc_ganb}\")"
   ]
  },
  {
   "cell_type": "code",
   "execution_count": 22,
   "metadata": {},
   "outputs": [],
   "source": [
    "# 18-08-2021"
   ]
  },
  {
   "cell_type": "markdown",
   "metadata": {},
   "source": [
    "#### 4. Decision Tree (CART: Classification And Regression Tree)"
   ]
  },
  {
   "cell_type": "code",
   "execution_count": 23,
   "metadata": {},
   "outputs": [
    {
     "name": "stdout",
     "output_type": "stream",
     "text": [
      "Accuracy of Decision Tree classifier: 99.91\n"
     ]
    }
   ],
   "source": [
    "# Import library for Decision Tree Classifier\n",
    "from sklearn.tree import DecisionTreeClassifier\n",
    "\n",
    "# Initialize the Decision Tree Classifier\n",
    "dtree_model = DecisionTreeClassifier()\n",
    "\n",
    "# Train the model using training dataset\n",
    "dtree_model.fit(x_train, y_train)\n",
    "\n",
    "# Prediction using test data\n",
    "y_pred_dtree = dtree_model.predict(x_test)\n",
    "\n",
    "# Calculate model accuracy by comparing y_test and y_pred\n",
    "acc_dtree = round(accuracy_score(y_test, y_pred_dtree) * 100, 2)\n",
    "print(f\"Accuracy of Decision Tree classifier: {acc_dtree}\")"
   ]
  },
  {
   "cell_type": "markdown",
   "metadata": {},
   "source": [
    "#### 5. Random Forest"
   ]
  },
  {
   "cell_type": "code",
   "execution_count": 24,
   "metadata": {},
   "outputs": [
    {
     "name": "stdout",
     "output_type": "stream",
     "text": [
      "Accuracy of Random forest: 99.96\n"
     ]
    }
   ],
   "source": [
    "# Import library for Random Forest\n",
    "from sklearn.ensemble import RandomForestClassifier\n",
    "\n",
    "# Initialize the Random Forest\n",
    "rf_model = RandomForestClassifier()\n",
    "\n",
    "# Train the model using training dataset\n",
    "rf_model.fit(x_train, y_train)\n",
    "\n",
    "# Prediction using test data\n",
    "y_pred_rf = rf_model.predict(x_test)\n",
    "\n",
    "# Calculate accuracy by comparing y_test and y_pred\n",
    "acc_rf = round(accuracy_score(y_test, y_pred_rf) * 100, 2)\n",
    "print(f'Accuracy of Random forest: {acc_rf}')"
   ]
  },
  {
   "cell_type": "markdown",
   "metadata": {},
   "source": [
    "#### 6. Support Vector Machine (SVM)"
   ]
  },
  {
   "cell_type": "code",
   "execution_count": 25,
   "metadata": {},
   "outputs": [
    {
     "name": "stdout",
     "output_type": "stream",
     "text": [
      "Accuracy of SVM: 99.83\n"
     ]
    }
   ],
   "source": [
    "# Import library for supprt Vector Machine\n",
    "from sklearn import svm\n",
    "\n",
    "# Initialize the SVM\n",
    "svc_model = svm.SVC()\n",
    "\n",
    "# Train the model using training dataset\n",
    "svc_model.fit(x_train, y_train)\n",
    "\n",
    "# Prediction using test data\n",
    "y_pred_svc = svc_model.predict(x_test)\n",
    "\n",
    "# Calculate model accuracy by comparing y_test and y_pred\n",
    "acc_svc = round(accuracy_score(y_test, y_pred_svc) * 100, 2)\n",
    "print(f\"Accuracy of SVM: {acc_svc}\")"
   ]
  },
  {
   "cell_type": "markdown",
   "metadata": {},
   "source": [
    "#### 7. K Nearest Neighbour Classifier"
   ]
  },
  {
   "cell_type": "code",
   "execution_count": 26,
   "metadata": {},
   "outputs": [
    {
     "name": "stdout",
     "output_type": "stream",
     "text": [
      "Accuracy of Decision Tree classifier: 99.83\n"
     ]
    }
   ],
   "source": [
    "# Import library for K Nearest Neighbour Classifier\n",
    "from sklearn.neighbors import KNeighborsClassifier\n",
    "\n",
    "# Initialize the K Nearest Neighbour Classifier\n",
    "knn_model = KNeighborsClassifier()\n",
    "\n",
    "# Train the model using training dataset\n",
    "knn_model.fit(x_train, y_train)\n",
    "\n",
    "# Prediction using test data\n",
    "y_pred_knn = knn_model.predict(x_test)\n",
    "\n",
    "# Calculate model accuracy by comparing y_test and y_pred\n",
    "acc_knn = round(accuracy_score(y_test, y_pred_knn) * 100, 2)\n",
    "print(f\"Accuracy of Decision Tree classifier: {acc_knn}\")"
   ]
  },
  {
   "cell_type": "markdown",
   "metadata": {},
   "source": [
    "### Accuracy Scores"
   ]
  },
  {
   "cell_type": "code",
   "execution_count": 27,
   "metadata": {},
   "outputs": [
    {
     "data": {
      "text/html": [
       "<div>\n",
       "<style scoped>\n",
       "    .dataframe tbody tr th:only-of-type {\n",
       "        vertical-align: middle;\n",
       "    }\n",
       "\n",
       "    .dataframe tbody tr th {\n",
       "        vertical-align: top;\n",
       "    }\n",
       "\n",
       "    .dataframe thead th {\n",
       "        text-align: right;\n",
       "    }\n",
       "</style>\n",
       "<table border=\"1\" class=\"dataframe\">\n",
       "  <thead>\n",
       "    <tr style=\"text-align: right;\">\n",
       "      <th></th>\n",
       "      <th>Model</th>\n",
       "      <th>Score</th>\n",
       "    </tr>\n",
       "  </thead>\n",
       "  <tbody>\n",
       "    <tr>\n",
       "      <th>4</th>\n",
       "      <td>Random Forest</td>\n",
       "      <td>99.96</td>\n",
       "    </tr>\n",
       "    <tr>\n",
       "      <th>1</th>\n",
       "      <td>Linear Discriminant Analysis</td>\n",
       "      <td>99.93</td>\n",
       "    </tr>\n",
       "    <tr>\n",
       "      <th>3</th>\n",
       "      <td>Decision Tree</td>\n",
       "      <td>99.91</td>\n",
       "    </tr>\n",
       "    <tr>\n",
       "      <th>0</th>\n",
       "      <td>Logistic Regression</td>\n",
       "      <td>99.90</td>\n",
       "    </tr>\n",
       "    <tr>\n",
       "      <th>5</th>\n",
       "      <td>Support Vector Machine</td>\n",
       "      <td>99.83</td>\n",
       "    </tr>\n",
       "    <tr>\n",
       "      <th>6</th>\n",
       "      <td>K - Nearest Neighbors</td>\n",
       "      <td>99.83</td>\n",
       "    </tr>\n",
       "    <tr>\n",
       "      <th>2</th>\n",
       "      <td>Naive Bayes</td>\n",
       "      <td>99.28</td>\n",
       "    </tr>\n",
       "  </tbody>\n",
       "</table>\n",
       "</div>"
      ],
      "text/plain": [
       "                          Model  Score\n",
       "4                 Random Forest  99.96\n",
       "1  Linear Discriminant Analysis  99.93\n",
       "3                 Decision Tree  99.91\n",
       "0           Logistic Regression  99.90\n",
       "5        Support Vector Machine  99.83\n",
       "6         K - Nearest Neighbors  99.83\n",
       "2                   Naive Bayes  99.28"
      ]
     },
     "execution_count": 27,
     "metadata": {},
     "output_type": "execute_result"
    }
   ],
   "source": [
    "# Accuracy scores of models\n",
    "\n",
    "models = pd.DataFrame({\n",
    "    'Model': ['Logistic Regression', 'Linear Discriminant Analysis', 'Naive Bayes', 'Decision Tree', \n",
    "              'Random Forest', 'Support Vector Machine', 'K - Nearest Neighbors'],\n",
    "    'Score': [acc_logisreg, acc_lda, acc_ganb, acc_dtree, acc_rf, acc_svc, acc_knn]\n",
    "})\n",
    "\n",
    "models.sort_values(by = 'Score', ascending = False)"
   ]
  },
  {
   "cell_type": "markdown",
   "metadata": {},
   "source": [
    "### Confusion Matrix\n",
    "\n",
    "- True Positives (TP)\\\n",
    "Predicted positive are actually positive.\n",
    "\n",
    "- False Positives (FP)\\\n",
    "Predicted positive are actually negative.\n",
    "\n",
    "- True Negatives (TN)\\\n",
    "Predicted negative are actually negative.\n",
    "\n",
    "- False Negatives (FN)\\\n",
    "Predicted negative are actually positive."
   ]
  },
  {
   "attachments": {
    "image.png": {
     "image/png": "[encoded data removed]"
    }
   },
   "cell_type": "markdown",
   "metadata": {},
   "source": [
    "---\n",
    "Precision: Actual positive points in all positive points declared by model.\\\n",
    "Recall: All the points which are actually negative (or positive) are predicted negative (or positive).\\\n",
    "Accuracy: Ratio of correct predications made and all the predictions made.\n",
    "\n",
    "![image.png](attachment:image.png)"
   ]
  },
  {
   "cell_type": "code",
   "execution_count": 28,
   "metadata": {},
   "outputs": [],
   "source": [
    "## Confusion matrix\n",
    "\n",
    "# from sklearn.metrics import confusion_matrix\n",
    "\n",
    "# cm = confusion_matrix(y_test, y_pred) # Give matrix for last model created\n",
    "# cm"
   ]
  },
  {
   "cell_type": "code",
   "execution_count": 29,
   "metadata": {},
   "outputs": [],
   "source": [
    "## Plotting Confusion matrix\n",
    "\n",
    "# from sklearn.metrics import plot_confusion_matrix\n",
    "\n",
    "# plot_confusion_matrix(model, x_test, y_test) # Give plot for last model created"
   ]
  },
  {
   "cell_type": "markdown",
   "metadata": {},
   "source": [
    "---"
   ]
  },
  {
   "cell_type": "markdown",
   "metadata": {},
   "source": [
    "### Confusion Matrices for all 7 models and conclusions."
   ]
  },
  {
   "cell_type": "markdown",
   "metadata": {},
   "source": [
    "##### NOTE:\n",
    "For each model\n",
    "- To create confusion matrix we need test data for output and predicted output data.\n",
    "- To plot confusion matrix we need model, test data for inputs and test data for output."
   ]
  },
  {
   "cell_type": "markdown",
   "metadata": {},
   "source": [
    "<span style='color:rgb(100,160,200)'>Import required function to create and plot confusion matrix.</span>"
   ]
  },
  {
   "cell_type": "code",
   "execution_count": 30,
   "metadata": {},
   "outputs": [],
   "source": [
    "from sklearn.metrics import confusion_matrix\n",
    "from sklearn.metrics import plot_confusion_matrix"
   ]
  },
  {
   "cell_type": "markdown",
   "metadata": {},
   "source": [
    "<span style='color:rgb(100,160,200)'>Followings are confusion matrices and their plots for each model (out of 7):</span>"
   ]
  },
  {
   "cell_type": "code",
   "execution_count": 31,
   "metadata": {},
   "outputs": [
    {
     "name": "stdout",
     "output_type": "stream",
     "text": [
      "[[94719    53]\n",
      " [   45   119]]\n",
      "\n",
      "<sklearn.metrics._plot.confusion_matrix.ConfusionMatrixDisplay object at 0x000002E20E695070>\n"
     ]
    },
    {
     "data": {
      "image/png": "[encoded data removed]",
      "text/plain": [
       "<Figure size 432x288 with 2 Axes>"
      ]
     },
     "metadata": {
      "needs_background": "light"
     },
     "output_type": "display_data"
    }
   ],
   "source": [
    "# 1. Logistic Regression\n",
    "\n",
    "print(confusion_matrix(y_test, y_pred_logisreg))\n",
    "print()\n",
    "print(plot_confusion_matrix(logisreg_model, x_test, y_test))"
   ]
  },
  {
   "cell_type": "markdown",
   "metadata": {},
   "source": [
    "From above confusion matrix obtained by Logistic Regression model, we get\n",
    "- True positive: 94719\n",
    "- False positive: 53\n",
    "- True negative: 119\n",
    "- False negative: 45"
   ]
  },
  {
   "cell_type": "code",
   "execution_count": 32,
   "metadata": {},
   "outputs": [
    {
     "name": "stdout",
     "output_type": "stream",
     "text": [
      "[[94749    23]\n",
      " [   45   119]]\n",
      "\n",
      "<sklearn.metrics._plot.confusion_matrix.ConfusionMatrixDisplay object at 0x000002E20D2EA9D0>\n"
     ]
    },
    {
     "data": {
      "image/png": "[encoded data removed]",
      "text/plain": [
       "<Figure size 432x288 with 2 Axes>"
      ]
     },
     "metadata": {
      "needs_background": "light"
     },
     "output_type": "display_data"
    }
   ],
   "source": [
    "# 2. Linear Discriminant Analysis\n",
    "\n",
    "print(confusion_matrix(y_test, y_pred_lda))\n",
    "print()\n",
    "print(plot_confusion_matrix(lda_model, x_test, y_test))"
   ]
  },
  {
   "cell_type": "markdown",
   "metadata": {},
   "source": [
    "From above confusion matrix obtained by Linear Discriminant Analysis model, we get\n",
    "- True positive: 94749\n",
    "- False positive: 23\n",
    "- True negative: 119\n",
    "- False negative: 45"
   ]
  },
  {
   "cell_type": "code",
   "execution_count": 33,
   "metadata": {},
   "outputs": [
    {
     "name": "stdout",
     "output_type": "stream",
     "text": [
      "[[94146   626]\n",
      " [   60   104]]\n",
      "\n",
      "<sklearn.metrics._plot.confusion_matrix.ConfusionMatrixDisplay object at 0x000002E20EC68A30>\n"
     ]
    },
    {
     "data": {
      "image/png": "[encoded data removed]",
      "text/plain": [
       "<Figure size 432x288 with 2 Axes>"
      ]
     },
     "metadata": {
      "needs_background": "light"
     },
     "output_type": "display_data"
    }
   ],
   "source": [
    "# 3. Gaussian Naive Bayes\n",
    "\n",
    "print(confusion_matrix(y_test, y_pred_ganb))\n",
    "print()\n",
    "print(plot_confusion_matrix(ganb_model, x_test, y_test))"
   ]
  },
  {
   "cell_type": "markdown",
   "metadata": {},
   "source": [
    "From above confusion matrix obtained by Gaussian Naive Bayes model, we get\n",
    "- True positive: 94146\n",
    "- False positive: 626\n",
    "- True negative: 104\n",
    "- False negative: 60"
   ]
  },
  {
   "cell_type": "code",
   "execution_count": 34,
   "metadata": {},
   "outputs": [
    {
     "name": "stdout",
     "output_type": "stream",
     "text": [
      "[[94734    38]\n",
      " [   44   120]]\n",
      "\n",
      "<sklearn.metrics._plot.confusion_matrix.ConfusionMatrixDisplay object at 0x000002E20ED7C8E0>\n"
     ]
    },
    {
     "data": {
      "image/png": "[encoded data removed]",
      "text/plain": [
       "<Figure size 432x288 with 2 Axes>"
      ]
     },
     "metadata": {
      "needs_background": "light"
     },
     "output_type": "display_data"
    }
   ],
   "source": [
    "# 4. Decision Tree (CART)\n",
    "\n",
    "print(confusion_matrix(y_test, y_pred_dtree))\n",
    "print()\n",
    "print(plot_confusion_matrix(dtree_model, x_test, y_test))"
   ]
  },
  {
   "cell_type": "markdown",
   "metadata": {},
   "source": [
    "From above confusion matrix obtained by Decision Tree model, we get\n",
    "- True positive: 94735\n",
    "- False positive: 37\n",
    "- True negative: 124\n",
    "- False negative: 40"
   ]
  },
  {
   "cell_type": "code",
   "execution_count": 35,
   "metadata": {},
   "outputs": [
    {
     "name": "stdout",
     "output_type": "stream",
     "text": [
      "[[94768     4]\n",
      " [   37   127]]\n",
      "\n",
      "<sklearn.metrics._plot.confusion_matrix.ConfusionMatrixDisplay object at 0x000002E20EC85DF0>\n"
     ]
    },
    {
     "data": {
      "image/png": "[encoded data removed]",
      "text/plain": [
       "<Figure size 432x288 with 2 Axes>"
      ]
     },
     "metadata": {
      "needs_background": "light"
     },
     "output_type": "display_data"
    }
   ],
   "source": [
    "# 5. Random Forest\n",
    "\n",
    "print(confusion_matrix(y_test, y_pred_rf))\n",
    "print()\n",
    "print(plot_confusion_matrix(rf_model, x_test, y_test))"
   ]
  },
  {
   "cell_type": "markdown",
   "metadata": {},
   "source": [
    "From above confusion matrix obtained by Random Forest model, we get\n",
    "- True positive: 94769\n",
    "- False positive: 3\n",
    "- True negative: 125\n",
    "- False negative: 39"
   ]
  },
  {
   "cell_type": "code",
   "execution_count": 36,
   "metadata": {},
   "outputs": [
    {
     "name": "stdout",
     "output_type": "stream",
     "text": [
      "[[94772     0]\n",
      " [  164     0]]\n",
      "\n",
      "<sklearn.metrics._plot.confusion_matrix.ConfusionMatrixDisplay object at 0x000002E20ECB2940>\n"
     ]
    },
    {
     "data": {
      "image/png": "[encoded data removed]",
      "text/plain": [
       "<Figure size 432x288 with 2 Axes>"
      ]
     },
     "metadata": {
      "needs_background": "light"
     },
     "output_type": "display_data"
    }
   ],
   "source": [
    "# 6. Support Vector Machine\n",
    "\n",
    "print(confusion_matrix(y_test, y_pred_svc))\n",
    "print()\n",
    "print(plot_confusion_matrix(svc_model, x_test, y_test))"
   ]
  },
  {
   "cell_type": "markdown",
   "metadata": {},
   "source": [
    "From above confusion matrix obtained by Support Vector Classifier model, we get\n",
    "- True positive: 94772\n",
    "- False positive: 0\n",
    "- True negative: 0\n",
    "- False negative: 164"
   ]
  },
  {
   "cell_type": "code",
   "execution_count": 37,
   "metadata": {},
   "outputs": [
    {
     "name": "stdout",
     "output_type": "stream",
     "text": [
      "[[94772     0]\n",
      " [  160     4]]\n",
      "\n",
      "<sklearn.metrics._plot.confusion_matrix.ConfusionMatrixDisplay object at 0x000002E212A5BFD0>\n"
     ]
    },
    {
     "data": {
      "image/png": "[encoded data removed]",
      "text/plain": [
       "<Figure size 432x288 with 2 Axes>"
      ]
     },
     "metadata": {
      "needs_background": "light"
     },
     "output_type": "display_data"
    }
   ],
   "source": [
    "# 7. K Nearest Neighbors\n",
    "\n",
    "print(confusion_matrix(y_test, y_pred_knn))\n",
    "print()\n",
    "print(plot_confusion_matrix(knn_model, x_test, y_test))"
   ]
  },
  {
   "cell_type": "markdown",
   "metadata": {},
   "source": [
    "From above confusion matrix obtained by K Neighbors Classifier model, we get\n",
    "- True positive: 94772\n",
    "- False positive: 0\n",
    "- True negative: 4\n",
    "- False negative: 160"
   ]
  },
  {
   "cell_type": "markdown",
   "metadata": {},
   "source": [
    "### Classification Report of Models"
   ]
  },
  {
   "cell_type": "code",
   "execution_count": 38,
   "metadata": {},
   "outputs": [
    {
     "name": "stdout",
     "output_type": "stream",
     "text": [
      "\n",
      "Classification report of Logistic Regression model:\n",
      "\n",
      "              precision    recall  f1-score   support\n",
      "\n",
      "       Fraud       1.00      1.00      1.00     94772\n",
      "   Non-Fraud       0.69      0.73      0.71       164\n",
      "\n",
      "    accuracy                           1.00     94936\n",
      "   macro avg       0.85      0.86      0.85     94936\n",
      "weighted avg       1.00      1.00      1.00     94936\n",
      "\n",
      "-----------------------------------------------------------\n",
      "\n",
      "Classification report of Linear Discriminant Analysis model:\n",
      "\n",
      "              precision    recall  f1-score   support\n",
      "\n",
      "       Fraud       1.00      1.00      1.00     94772\n",
      "   Non-Fraud       0.84      0.73      0.78       164\n",
      "\n",
      "    accuracy                           1.00     94936\n",
      "   macro avg       0.92      0.86      0.89     94936\n",
      "weighted avg       1.00      1.00      1.00     94936\n",
      "\n",
      "-----------------------------------------------------------\n",
      "\n",
      "Classification report of Naive Bayes model:\n",
      "\n",
      "              precision    recall  f1-score   support\n",
      "\n",
      "       Fraud       1.00      0.99      1.00     94772\n",
      "   Non-Fraud       0.14      0.63      0.23       164\n",
      "\n",
      "    accuracy                           0.99     94936\n",
      "   macro avg       0.57      0.81      0.61     94936\n",
      "weighted avg       1.00      0.99      1.00     94936\n",
      "\n",
      "-----------------------------------------------------------\n",
      "\n",
      "Classification report of Decision Tree model:\n",
      "\n",
      "              precision    recall  f1-score   support\n",
      "\n",
      "       Fraud       1.00      1.00      1.00     94772\n",
      "   Non-Fraud       0.76      0.73      0.75       164\n",
      "\n",
      "    accuracy                           1.00     94936\n",
      "   macro avg       0.88      0.87      0.87     94936\n",
      "weighted avg       1.00      1.00      1.00     94936\n",
      "\n",
      "-----------------------------------------------------------\n",
      "\n",
      "Classification report of Random Forest model:\n",
      "\n",
      "              precision    recall  f1-score   support\n",
      "\n",
      "       Fraud       1.00      1.00      1.00     94772\n",
      "   Non-Fraud       0.97      0.77      0.86       164\n",
      "\n",
      "    accuracy                           1.00     94936\n",
      "   macro avg       0.98      0.89      0.93     94936\n",
      "weighted avg       1.00      1.00      1.00     94936\n",
      "\n",
      "-----------------------------------------------------------\n",
      "\n",
      "Classification report of Support Vector Machine model:\n",
      "\n",
      "              precision    recall  f1-score   support\n",
      "\n",
      "       Fraud       1.00      1.00      1.00     94772\n",
      "   Non-Fraud       0.00      0.00      0.00       164\n",
      "\n",
      "    accuracy                           1.00     94936\n",
      "   macro avg       0.50      0.50      0.50     94936\n",
      "weighted avg       1.00      1.00      1.00     94936\n",
      "\n",
      "-----------------------------------------------------------\n",
      "\n",
      "Classification report of K - Nearest Neighbors model:\n",
      "\n"
     ]
    },
    {
     "name": "stderr",
     "output_type": "stream",
     "text": [
      "C:\\Users\\ishan\\anaconda3\\lib\\site-packages\\sklearn\\metrics\\_classification.py:1221: UndefinedMetricWarning: Precision and F-score are ill-defined and being set to 0.0 in labels with no predicted samples. Use `zero_division` parameter to control this behavior.\n",
      "  _warn_prf(average, modifier, msg_start, len(result))\n"
     ]
    },
    {
     "name": "stdout",
     "output_type": "stream",
     "text": [
      "              precision    recall  f1-score   support\n",
      "\n",
      "       Fraud       1.00      1.00      1.00     94772\n",
      "   Non-Fraud       1.00      0.02      0.05       164\n",
      "\n",
      "    accuracy                           1.00     94936\n",
      "   macro avg       1.00      0.51      0.52     94936\n",
      "weighted avg       1.00      1.00      1.00     94936\n",
      "\n",
      "-----------------------------------------------------------\n"
     ]
    }
   ],
   "source": [
    "# Classification report for all 7 models\n",
    "\n",
    "from sklearn.metrics import classification_report\n",
    "\n",
    "# Names of models used\n",
    "models = ['Logistic Regression', 'Linear Discriminant Analysis', 'Naive Bayes', 'Decision Tree', \n",
    "          'Random Forest', 'Support Vector Machine', 'K - Nearest Neighbors']\n",
    "\n",
    "# List of arrays of predicted output values of all models\n",
    "models_y_preds = [y_pred_logisreg, y_pred_lda, y_pred_ganb, y_pred_dtree, y_pred_rf, y_pred_svc, y_pred_knn]\n",
    "\n",
    "labels = [0, 1]  # Encoded labels for customer types (or transaction types)\n",
    "customer_types = ['Fraud', 'Non-Fraud']  # Customer types to be predicted by model\n",
    "\n",
    "model_num = 0\n",
    "for y_pred in models_y_preds:\n",
    "    print(f'\\nClassification report of {models[model_num]} model:\\n')\n",
    "    print(classification_report(y_test, y_pred, labels = labels, target_names = customer_types))\n",
    "    print(\"-----------------------------------------------------------\")\n",
    "    model_num += 1"
   ]
  },
  {
   "cell_type": "markdown",
   "metadata": {},
   "source": [
    "<h2> Conclusion:</h2>\n",
    "<pre><span style='color:rgb(75,165,170); font-size:16px'>From above, we can conclude that <span style=\"background-color:rgb(240,240,240); border-radius:2.5px\">Random Forest model</span> is best suitable model with maximum \n",
    "accuracy of 99.96 having 94769 true positive values and 125 true negative values -i.e- \n",
    "94894 correct predictions out of 94936 test values. \n",
    "Also, it has the highest macro average of f1-score, which is equal to 0.93.</span></pre>"
   ]
  },
  {
   "cell_type": "markdown",
   "metadata": {},
   "source": [
    "### Predict Transaction Type Using Random Forest Model"
   ]
  },
  {
   "cell_type": "code",
   "execution_count": 53,
   "metadata": {},
   "outputs": [
    {
     "name": "stdout",
     "output_type": "stream",
     "text": [
      "[0]\n"
     ]
    }
   ],
   "source": [
    "# 0 --> Non-Fraud, 1 --> Fraud\n",
    "sample = np.array([0.0,-1.360,-0.073,2.536,1.378,0.338,0.462,0.240,0.099,0.364,0.091,0.552,-0.618,-0.991,-0.311,1.468,-0.470,0.208,0.026,0.404,0.251,-0.018,0.278,-0.110,0.067,0.129,-0.189,0.134,-0.021,149.62])\n",
    "output = rf_model.predict(sample.reshape(1,-1))\n",
    "print(output)"
   ]
  },
  {
   "cell_type": "markdown",
   "metadata": {},
   "source": [
    "<hr style=\"border-top: 1.5px solid black; width: 300px;\">"
   ]
  }
 ],
 "metadata": {
  "kernelspec": {
   "display_name": "Python 3",
   "language": "python",
   "name": "python3"
  },
  "language_info": {
   "codemirror_mode": {
    "name": "ipython",
    "version": 3
   },
   "file_extension": ".py",
   "mimetype": "text/x-python",
   "name": "python",
   "nbconvert_exporter": "python",
   "pygments_lexer": "ipython3",
   "version": "3.8.3"
  }
 },
 "nbformat": 4,
 "nbformat_minor": 4
}
