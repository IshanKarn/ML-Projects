{
  "nbformat": 4,
  "nbformat_minor": 0,
  "metadata": {
    "colab": {
      "name": "NumPy Bootcamp Graded Hands-on Exercise.ipynb",
      "provenance": [],
      "include_colab_link": true
    },
    "kernelspec": {
      "name": "python3",
      "display_name": "Python 3"
    },
    "language_info": {
      "name": "python"
    }
  },
  "cells": [
    {
      "cell_type": "markdown",
      "metadata": {
        "id": "view-in-github",
        "colab_type": "text"
      },
      "source": [
        "<a href=\"https://colab.research.google.com/github/IshanKarn/ML-Projects/blob/main/NumPy_Bootcamp_Graded_Hands_on_Exercise.ipynb\" target=\"_parent\"><img src=\"https://colab.research.google.com/assets/colab-badge.svg\" alt=\"Open In Colab\"/></a>"
      ]
    },
    {
      "cell_type": "markdown",
      "metadata": {
        "id": "OZpduK2BJvzZ"
      },
      "source": [
        "### **Overview**\n",
        "\n",
        "Dear Learner, \n",
        "\n",
        "Congratulations, you have studied NumPy all the way through the end of this bootcamp!!! This is the final graded hands-on exercise where you will be accomplishing the below mentioned task.\n",
        "\n",
        "**Author:** Avantika Podar"
      ]
    },
    {
      "cell_type": "markdown",
      "metadata": {
        "id": "UC6lZAsJLiFg"
      },
      "source": [
        "###Task 1:   \n",
        "\n",
        "Construct a random 3x28x28 NumPy array called *original* to represent an image and then convert this into into a 1x(3x28x28) array called *flat*. This converts it into a single row of pixels. Next, convert this to a 1D array (flatten the array using flat.flatten()). Print shape of all arrays. You may use the random function to generate the array.\n",
        "\n"
      ]
    },
    {
      "cell_type": "code",
      "metadata": {
        "id": "Qno3FG8M9RXZ"
      },
      "source": [
        "import numpy as np\n",
        "from numpy import random"
      ],
      "execution_count": 17,
      "outputs": []
    },
    {
      "cell_type": "code",
      "source": [
        "original = random.randint(10, size=(3,28,28))\n",
        "flat = original.reshape(1,3*28*28)\n",
        "arr_1d = flat.flatten()"
      ],
      "metadata": {
        "id": "AwE-Qy0WAV-w"
      },
      "execution_count": 18,
      "outputs": []
    },
    {
      "cell_type": "code",
      "source": [
        "print(original.shape)\n",
        "print(flat.shape)\n",
        "print(arr_1d.shape)"
      ],
      "metadata": {
        "colab": {
          "base_uri": "https://localhost:8080/"
        },
        "id": "nfLRZc4F90ww",
        "outputId": "7b28f5cc-7e0c-48dc-cc65-59f6ed631f60"
      },
      "execution_count": 19,
      "outputs": [
        {
          "output_type": "stream",
          "name": "stdout",
          "text": [
            "(3, 28, 28)\n",
            "(1, 2352)\n",
            "(2352,)\n"
          ]
        }
      ]
    },
    {
      "cell_type": "code",
      "source": [
        "# extra\n",
        "print(original)"
      ],
      "metadata": {
        "colab": {
          "base_uri": "https://localhost:8080/"
        },
        "id": "4ZiYjbWyIh6s",
        "outputId": "b4c7dea2-6f3f-476c-e9cf-472427aab5ae"
      },
      "execution_count": 37,
      "outputs": [
        {
          "output_type": "stream",
          "name": "stdout",
          "text": [
            "[[[7 2 3 ... 6 3 4]\n",
            "  [8 9 4 ... 1 5 8]\n",
            "  [8 7 4 ... 6 2 0]\n",
            "  ...\n",
            "  [7 4 2 ... 3 2 3]\n",
            "  [3 7 9 ... 7 0 5]\n",
            "  [5 5 8 ... 1 4 9]]\n",
            "\n",
            " [[4 6 6 ... 8 9 3]\n",
            "  [6 9 4 ... 9 9 7]\n",
            "  [8 8 6 ... 2 8 4]\n",
            "  ...\n",
            "  [9 5 0 ... 6 2 9]\n",
            "  [9 2 9 ... 6 8 7]\n",
            "  [2 7 0 ... 3 8 7]]\n",
            "\n",
            " [[0 1 8 ... 6 3 0]\n",
            "  [9 7 3 ... 0 0 6]\n",
            "  [9 5 4 ... 0 0 4]\n",
            "  ...\n",
            "  [1 2 4 ... 8 8 2]\n",
            "  [2 0 0 ... 7 2 3]\n",
            "  [5 7 6 ... 3 2 7]]]\n"
          ]
        }
      ]
    },
    {
      "cell_type": "markdown",
      "metadata": {
        "id": "eIcDegymM1tR"
      },
      "source": [
        "### Task 2: Print out the following: \n",
        "  * dimension of the arrays.\n",
        "  * memory address of the arrays (pointer).\n",
        "  * shape of the arrays.\n",
        "  * data types of the arrays. \n",
        "\n",
        "\n"
      ]
    },
    {
      "cell_type": "code",
      "metadata": {
        "id": "H9MUhbsn9Ych",
        "colab": {
          "base_uri": "https://localhost:8080/"
        },
        "outputId": "66a702a9-30bc-4657-ff3f-11e4827cb4a9"
      },
      "source": [
        "# Dimensions\n",
        "print(original.ndim)\n",
        "print(flat.ndim)\n",
        "print(arr_1d.ndim)"
      ],
      "execution_count": 20,
      "outputs": [
        {
          "output_type": "stream",
          "name": "stdout",
          "text": [
            "3\n",
            "2\n",
            "1\n"
          ]
        }
      ]
    },
    {
      "cell_type": "code",
      "source": [
        "# Memory address\n",
        "print(id(original))\n",
        "print(original.data) \n",
        "print(original.__array_interface__['data'][0]) # memory address (pointer)\n",
        "\n",
        "print(id(flat))\n",
        "print(flat.data) \n",
        "print(flat.__array_interface__['data'][0]) # memory address (pointer)\n",
        "\n",
        "print(arr_1d.__array_interface__['data'][0])"
      ],
      "metadata": {
        "colab": {
          "base_uri": "https://localhost:8080/"
        },
        "id": "bbA1Xs76AlPt",
        "outputId": "d1741798-33e7-40ee-d936-d048c9ab33b7"
      },
      "execution_count": 28,
      "outputs": [
        {
          "output_type": "stream",
          "name": "stdout",
          "text": [
            "140247647737376\n",
            "<memory at 0x7f8def2c0850>\n",
            "93936167919616\n",
            "140247647738336\n",
            "<memory at 0x7f8def289830>\n",
            "93936167919616\n",
            "93936165777408\n"
          ]
        }
      ]
    },
    {
      "cell_type": "code",
      "source": [
        "# Shape\n",
        "print(original.shape)\n",
        "print(flat.shape)\n",
        "print(arr_1d.shape)"
      ],
      "metadata": {
        "colab": {
          "base_uri": "https://localhost:8080/"
        },
        "id": "sHR8hEuCHgjO",
        "outputId": "41feb9cc-2109-4f72-8286-dd3402616026"
      },
      "execution_count": 29,
      "outputs": [
        {
          "output_type": "stream",
          "name": "stdout",
          "text": [
            "(3, 28, 28)\n",
            "(1, 2352)\n",
            "(2352,)\n"
          ]
        }
      ]
    },
    {
      "cell_type": "code",
      "source": [
        "# Datatypes\n",
        "print(original.dtype)\n",
        "print(flat.dtype)\n",
        "print(arr_1d.dtype)"
      ],
      "metadata": {
        "colab": {
          "base_uri": "https://localhost:8080/"
        },
        "id": "QFy7jW7sHqIY",
        "outputId": "98fb288d-a856-48ea-a69a-fe62b4308bc8"
      },
      "execution_count": 32,
      "outputs": [
        {
          "output_type": "stream",
          "name": "stdout",
          "text": [
            "int64\n",
            "int64\n",
            "int64\n"
          ]
        }
      ]
    },
    {
      "cell_type": "markdown",
      "metadata": {
        "id": "mZYl9CjBN9bg"
      },
      "source": [
        "### Task 3: \n",
        "Construct a new array which is a negative of the *original* array, i.e, all elements are negative of those in the *original* array. Print the new array. Add the original and new arrays. Print the result. "
      ]
    },
    {
      "cell_type": "code",
      "metadata": {
        "id": "0VCQBW-F933Z",
        "colab": {
          "base_uri": "https://localhost:8080/"
        },
        "outputId": "c8b84e5e-512c-459c-b37f-f28c80a5ecfc"
      },
      "source": [
        "negative_original = original * -1\n",
        "print(negative_original)"
      ],
      "execution_count": 36,
      "outputs": [
        {
          "output_type": "stream",
          "name": "stdout",
          "text": [
            "[[[-7 -2 -3 ... -6 -3 -4]\n",
            "  [-8 -9 -4 ... -1 -5 -8]\n",
            "  [-8 -7 -4 ... -6 -2  0]\n",
            "  ...\n",
            "  [-7 -4 -2 ... -3 -2 -3]\n",
            "  [-3 -7 -9 ... -7  0 -5]\n",
            "  [-5 -5 -8 ... -1 -4 -9]]\n",
            "\n",
            " [[-4 -6 -6 ... -8 -9 -3]\n",
            "  [-6 -9 -4 ... -9 -9 -7]\n",
            "  [-8 -8 -6 ... -2 -8 -4]\n",
            "  ...\n",
            "  [-9 -5  0 ... -6 -2 -9]\n",
            "  [-9 -2 -9 ... -6 -8 -7]\n",
            "  [-2 -7  0 ... -3 -8 -7]]\n",
            "\n",
            " [[ 0 -1 -8 ... -6 -3  0]\n",
            "  [-9 -7 -3 ...  0  0 -6]\n",
            "  [-9 -5 -4 ...  0  0 -4]\n",
            "  ...\n",
            "  [-1 -2 -4 ... -8 -8 -2]\n",
            "  [-2  0  0 ... -7 -2 -3]\n",
            "  [-5 -7 -6 ... -3 -2 -7]]]\n"
          ]
        }
      ]
    },
    {
      "cell_type": "code",
      "source": [
        "arr_add_result = original + negative_original\n",
        "print(arr_add_result)"
      ],
      "metadata": {
        "colab": {
          "base_uri": "https://localhost:8080/"
        },
        "id": "H5PeASkdIo7d",
        "outputId": "d51ad6bc-089d-4f0a-ed1a-105f91ae403f"
      },
      "execution_count": 42,
      "outputs": [
        {
          "output_type": "stream",
          "name": "stdout",
          "text": [
            "[[[0 0 0 ... 0 0 0]\n",
            "  [0 0 0 ... 0 0 0]\n",
            "  [0 0 0 ... 0 0 0]\n",
            "  ...\n",
            "  [0 0 0 ... 0 0 0]\n",
            "  [0 0 0 ... 0 0 0]\n",
            "  [0 0 0 ... 0 0 0]]\n",
            "\n",
            " [[0 0 0 ... 0 0 0]\n",
            "  [0 0 0 ... 0 0 0]\n",
            "  [0 0 0 ... 0 0 0]\n",
            "  ...\n",
            "  [0 0 0 ... 0 0 0]\n",
            "  [0 0 0 ... 0 0 0]\n",
            "  [0 0 0 ... 0 0 0]]\n",
            "\n",
            " [[0 0 0 ... 0 0 0]\n",
            "  [0 0 0 ... 0 0 0]\n",
            "  [0 0 0 ... 0 0 0]\n",
            "  ...\n",
            "  [0 0 0 ... 0 0 0]\n",
            "  [0 0 0 ... 0 0 0]\n",
            "  [0 0 0 ... 0 0 0]]]\n"
          ]
        }
      ]
    },
    {
      "cell_type": "markdown",
      "metadata": {
        "id": "4UKa56EzQXaU"
      },
      "source": [
        "###Task 4\n",
        "\n",
        "A 3x28x28 basically means 28x28 matrices repeated three times. How would you access the first 10 elements of the 2nd row of the second 28x28 matrix? Consider the original array for this. Print the elements."
      ]
    },
    {
      "cell_type": "code",
      "metadata": {
        "id": "bc0stgsY93Tn",
        "colab": {
          "base_uri": "https://localhost:8080/"
        },
        "outputId": "fc32d733-bc39-4e07-c0f4-a27789949033"
      },
      "source": [
        "print(original[1][1, 0:10])"
      ],
      "execution_count": 47,
      "outputs": [
        {
          "output_type": "stream",
          "name": "stdout",
          "text": [
            "[6 9 4 6 1 0 4 6 1 0]\n"
          ]
        }
      ]
    },
    {
      "cell_type": "markdown",
      "metadata": {
        "id": "8USrPA7NdRXQ"
      },
      "source": [
        "### Task 5 \n",
        "A 3x28x28 image means 3 channels of Red, Green, or Blue (Popularly known as RGB image). Each color channel has a height and width, which is 28X28 in this case. The entire picture can represented through this method. Print the shape of the Blue pixel matrix and its first 3 rows."
      ]
    },
    {
      "cell_type": "code",
      "metadata": {
        "id": "bQCRmVPz92r7",
        "colab": {
          "base_uri": "https://localhost:8080/"
        },
        "outputId": "bdd8986b-6bad-4991-9e8f-f9fba6984a15"
      },
      "source": [
        "# Shape of Blue pixel matrix\n",
        "print(original[2].shape)\n",
        "\n",
        "# Shape of first 3 rows of blue pixel matrix\n",
        "print(original[2][:3].shape)"
      ],
      "execution_count": 53,
      "outputs": [
        {
          "output_type": "stream",
          "name": "stdout",
          "text": [
            "(28, 28)\n",
            "(3, 28)\n"
          ]
        }
      ]
    },
    {
      "cell_type": "markdown",
      "metadata": {
        "id": "Nb9AZUweD-3m"
      },
      "source": [
        "### Task 6 \n",
        "Create a 1 dimensional numpy array of the first 50 even numbers. Convert this to a 10x5 numpy array and print its transpose. "
      ]
    },
    {
      "cell_type": "code",
      "metadata": {
        "id": "JJj-N-Kt92Nz",
        "colab": {
          "base_uri": "https://localhost:8080/"
        },
        "outputId": "77e87d2c-4a7e-49ed-a48e-2d19eb0c0437"
      },
      "source": [
        "even_arr_1d = np.arange(2, 102, 2)\n",
        "reshaped_arr = even_arr_1d.reshape(10, 5)\n",
        "print(reshaped_arr.T)"
      ],
      "execution_count": 66,
      "outputs": [
        {
          "output_type": "stream",
          "name": "stdout",
          "text": [
            "[[  2  12  22  32  42  52  62  72  82  92]\n",
            " [  4  14  24  34  44  54  64  74  84  94]\n",
            " [  6  16  26  36  46  56  66  76  86  96]\n",
            " [  8  18  28  38  48  58  68  78  88  98]\n",
            " [ 10  20  30  40  50  60  70  80  90 100]]\n"
          ]
        }
      ]
    },
    {
      "cell_type": "markdown",
      "metadata": {
        "id": "ITBNUk5dHu0f"
      },
      "source": [
        "###Task 7 \n",
        "Consider the 10x5 array created in Task 6. Find the mean of each row and column. You may use in built functions or write your own code."
      ]
    },
    {
      "cell_type": "code",
      "source": [
        "reshaped_arr"
      ],
      "metadata": {
        "colab": {
          "base_uri": "https://localhost:8080/"
        },
        "id": "SsNJZPjKOggl",
        "outputId": "a6c84d4b-4fa7-4738-b4e4-afe8a4cd334b"
      },
      "execution_count": 68,
      "outputs": [
        {
          "output_type": "execute_result",
          "data": {
            "text/plain": [
              "array([[  2,   4,   6,   8,  10],\n",
              "       [ 12,  14,  16,  18,  20],\n",
              "       [ 22,  24,  26,  28,  30],\n",
              "       [ 32,  34,  36,  38,  40],\n",
              "       [ 42,  44,  46,  48,  50],\n",
              "       [ 52,  54,  56,  58,  60],\n",
              "       [ 62,  64,  66,  68,  70],\n",
              "       [ 72,  74,  76,  78,  80],\n",
              "       [ 82,  84,  86,  88,  90],\n",
              "       [ 92,  94,  96,  98, 100]])"
            ]
          },
          "metadata": {},
          "execution_count": 68
        }
      ]
    },
    {
      "cell_type": "code",
      "source": [
        "# Mean of each row (top to bottom) of 10x5 array\n",
        "print(\"Row-wise mean:\", reshaped_arr.mean(axis = 1))\n",
        "\n",
        "# Mean of each column (left to right) of 10x5 array\n",
        "print(\"Column-wise mean:\", reshaped_arr.mean(axis = 0))"
      ],
      "metadata": {
        "colab": {
          "base_uri": "https://localhost:8080/"
        },
        "id": "InxSmx4YMmqR",
        "outputId": "d8a28282-444b-4654-b7c3-92f9f29ffd8d"
      },
      "execution_count": 72,
      "outputs": [
        {
          "output_type": "stream",
          "name": "stdout",
          "text": [
            "Row-wise mean: [ 6. 16. 26. 36. 46. 56. 66. 76. 86. 96.]\n",
            "Column-wise mean: [47. 49. 51. 53. 55.]\n"
          ]
        }
      ]
    },
    {
      "cell_type": "code",
      "metadata": {
        "id": "9bFi6vVf91oY",
        "colab": {
          "base_uri": "https://localhost:8080/"
        },
        "outputId": "9d4aed7b-21df-4f3c-a303-3196fa14a38e"
      },
      "source": [
        "# User defined function to calculate row-wise means of a 2-D array\n",
        "def mean_rows(arr_2d):\n",
        "  rowise_means = []\n",
        "  for row in arr_2d:\n",
        "    sum = 0\n",
        "    for i in row:\n",
        "      sum += i\n",
        "    rowise_means.append(sum/len(row))\n",
        "  return rowise_means\n",
        "\n",
        "# User defined function to calculate column-wise means of a 2-D array\n",
        "def mean_cols(arr_2d):\n",
        "  colwise_means = []\n",
        "  for row in arr_2d.T:\n",
        "    sum = 0\n",
        "    for i in row:\n",
        "      sum += i\n",
        "    colwise_means.append(sum/len(row))\n",
        "  return colwise_means\n",
        "\n",
        "# Calculating row-wise and column-wise mean of 10x5 array\n",
        "print(\"Row-wise mean:\", mean_rows(reshaped_arr))\n",
        "print(\"Column-wise mean:\", mean_cols(reshaped_arr))"
      ],
      "execution_count": 81,
      "outputs": [
        {
          "output_type": "stream",
          "name": "stdout",
          "text": [
            "Row-wise mean: [6.0, 16.0, 26.0, 36.0, 46.0, 56.0, 66.0, 76.0, 86.0, 96.0]\n",
            "Column-wise mean: [47.0, 49.0, 51.0, 53.0, 55.0]\n"
          ]
        }
      ]
    },
    {
      "cell_type": "markdown",
      "metadata": {
        "id": "WEHBWo7AGXKK"
      },
      "source": [
        "### Task 8\n",
        "Can we create a 3x3 array of the first 50 even numbers? Why or why not? What are other values of m and n for which mxn dimension is allowed for 50 elements?"
      ]
    },
    {
      "cell_type": "markdown",
      "metadata": {
        "id": "nGirNkBS90-J"
      },
      "source": [
        "No, we cannot create a 3x3 array of first 50 even numbers.\n",
        "\n",
        "A 3x3 array has 3 rows and 3 columns so it can store 9 values only.\n",
        "\n",
        "Possible values of dimension must be the numbers whose product is equal to 50.\n",
        "\n",
        "For 2-D arrays it will be two positive numbers m and n.\n",
        "\n",
        "Such that, m x n = 50\n",
        "\n",
        "Since, 10 x 5 = 50 or 5 x 10 = 50\n",
        "\n",
        "So, possible values of m, n pairs are **10, 5 and 5, 10** for which required mxn dimension is allowed for 50 elements.\n",
        "\n",
        "---\n",
        "\\\n",
        "**Code:**\n",
        "\n",
        "\n",
        "``` python\n",
        "import numpy as np\n",
        "\n",
        "arr = np.arange(2, 102, 2)\n",
        "\n",
        "print(arr.reshape(10, 5)) # m = 10, n = 5 (correct)\n",
        "print(arr.reshape(5, 10)) # m = 5, n = 10 (correct)\n",
        "print(arr.reshape(3, 3))  # Raise ValueError (Incorrect)\n",
        "```\n",
        "\n",
        "---"
      ]
    }
  ]
}